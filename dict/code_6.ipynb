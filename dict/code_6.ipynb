{
 "nbformat": 4,
 "nbformat_minor": 2,
 "metadata": {
  "language_info": {
   "name": "python",
   "codemirror_mode": {
    "name": "ipython",
    "version": 3
   },
   "version": "3.7.5-final"
  },
  "orig_nbformat": 2,
  "file_extension": ".py",
  "mimetype": "text/x-python",
  "name": "python",
  "npconvert_exporter": "python",
  "pygments_lexer": "ipython3",
  "version": 3,
  "kernelspec": {
   "name": "python37564bit8054e0957165429981ce29709e26cf57",
   "display_name": "Python 3.7.5 64-bit"
  }
 },
 "cells": [
  {
   "cell_type": "code",
   "execution_count": null,
   "metadata": {},
   "outputs": [],
   "source": [
    "a2 = ['OX','-X']\n",
    "symbols = ['-','X','O']\n",
    "n = len(symbols)\n",
    "score2 = {}\n",
    "for i in range(len(a2)):\n",
    "    for location3 in range(n):\n",
    "        s3 = symbols[location3]\n",
    "        for location4 in range(n):\n",
    "            s4 = symbols[location4]\n",
    "            for location5 in range(n):\n",
    "                s5 = symbols[location5]\n",
    "                s = a2[i] + s3 + s4 + s5\n",
    "                code = '2' + str(2-i)\n",
    "                score2[s] = code\n",
    "score2"
   ]
  },
  {
   "cell_type": "code",
   "execution_count": null,
   "metadata": {},
   "outputs": [],
   "source": [
    "a3 = ['OOX','-OX','O-X','--X']\n",
    "score3 = {}\n",
    "for i in range(len(a3)):\n",
    "    for location4 in range(n):\n",
    "        s4 = symbols[location4]\n",
    "        for location5 in range(n):\n",
    "            s5 = symbols[location5]\n",
    "            s = a3[i] + s4 + s5\n",
    "            code = '3' + str(i)\n",
    "            score3[s] = code"
   ]
  },
  {
   "cell_type": "code",
   "execution_count": null,
   "metadata": {},
   "outputs": [],
   "source": [
    "for state in score3:\n",
    "    c = 0\n",
    "    for i in range(2):\n",
    "        if state[i] == '-':\n",
    "            c+=1\n",
    "    score3[state] = '3' + str(3-c)\n",
    "score3"
   ]
  },
  {
   "cell_type": "code",
   "execution_count": null,
   "metadata": {},
   "outputs": [],
   "source": [
    "a4 = ['OOOX','-OOX','O-OX','OO-X','O--X','-O-X','--OX','---X']\n",
    "score4 = {}\n",
    "for i in range(len(a4)):\n",
    "        for location5 in range(n):\n",
    "            s5 = symbols[location5]\n",
    "            s = a4[i] + s5\n",
    "            code = '4' + str(i)\n",
    "            score4[s] = code"
   ]
  },
  {
   "cell_type": "code",
   "execution_count": null,
   "metadata": {},
   "outputs": [],
   "source": []
  },
  {
   "cell_type": "code",
   "execution_count": null,
   "metadata": {},
   "outputs": [],
   "source": [
    "for state in score4:\n",
    "    c = 0\n",
    "    for i in range(3):\n",
    "        if state[i] == '-':\n",
    "            c+=1\n",
    "    score4[state] = '4' + str(4-c)\n",
    "score4"
   ]
  },
  {
   "cell_type": "code",
   "execution_count": null,
   "metadata": {},
   "outputs": [],
   "source": [
    "a1 = ['X']\n",
    "score1 = {}\n",
    "for i in range(len(a1)):\n",
    "    for location2 in range(n):\n",
    "        s2 = symbols[location2]\n",
    "        for location3 in range(n):\n",
    "            s3 = symbols[location3]\n",
    "            for location4 in range(n):\n",
    "                s4 = symbols[location4]\n",
    "                for location5 in range(n):\n",
    "                    s5 = symbols[location5]\n",
    "                    s = a1[i] + s2 + s3 + s4 + s5\n",
    "                    code = '1' + str(1)\n",
    "                    score1[s] = code\n",
    "score1"
   ]
  },
  {
   "cell_type": "code",
   "execution_count": null,
   "metadata": {},
   "outputs": [],
   "source": []
  },
  {
   "cell_type": "code",
   "execution_count": null,
   "metadata": {},
   "outputs": [],
   "source": [
    "\n",
    "score5 = {}\n",
    "good_symbols = ['O','-']\n",
    "n_good_symbols = len(good_symbols)\n",
    "    \n",
    "for location1 in range(n_good_symbols):\n",
    "    s1 = good_symbols[location1]\n",
    "    for location2 in range(n_good_symbols):\n",
    "        s2 = good_symbols[location2]\n",
    "        for location3 in range(n_good_symbols):\n",
    "            s3 = good_symbols[location3]\n",
    "            for location4 in range(n_good_symbols):\n",
    "                s4 = good_symbols[location4]\n",
    "                s5 = 'X'\n",
    "                s = s1 + s2 + s3 + s4 + s5\n",
    "                code = '51'\n",
    "                score5[s] = code\n",
    "score5\n",
    ""
   ]
  },
  {
   "cell_type": "code",
   "execution_count": null,
   "metadata": {},
   "outputs": [],
   "source": [
    "for state in score5:\n",
    "    c = 0\n",
    "    for i in range(5):\n",
    "        if state[i] == '-':\n",
    "            c+=1\n",
    "    score5[state] = '5' + str(5-c)\n",
    "score5"
   ]
  },
  {
   "cell_type": "code",
   "execution_count": null,
   "metadata": {},
   "outputs": [],
   "source": [
    "score6 = {}\n",
    "good_symbols = ['O','-']\n",
    "n_good_symbols = len(good_symbols)\n",
    "    \n",
    "for location1 in range(n_good_symbols):\n",
    "    s1 = good_symbols[location1]\n",
    "    for location2 in range(n_good_symbols):\n",
    "        s2 = good_symbols[location2]\n",
    "        for location3 in range(n_good_symbols):\n",
    "            s3 = good_symbols[location3]\n",
    "            for location4 in range(n_good_symbols):\n",
    "                s4 = good_symbols[location4]\n",
    "                for location5 in range(n_good_symbols):\n",
    "                    s5 = good_symbols[location5]\n",
    "                    s = s1 + s2 + s3 + s4 + s5\n",
    "                    code = '6'\n",
    "                    score6[s] = code"
   ]
  },
  {
   "cell_type": "code",
   "execution_count": null,
   "metadata": {},
   "outputs": [],
   "source": [
    "for state in score6:\n",
    "    c = 0\n",
    "    for i in range(5):\n",
    "        if state[i] == '-':\n",
    "            c+=1\n",
    "    score6[state] = '6' + str(6-c)\n",
    "score6"
   ]
  },
  {
   "cell_type": "code",
   "execution_count": null,
   "metadata": {},
   "outputs": [],
   "source": [
    "len(score6)"
   ]
  },
  {
   "cell_type": "code",
   "execution_count": null,
   "metadata": {},
   "outputs": [],
   "source": [
    "len(score5)"
   ]
  },
  {
   "cell_type": "code",
   "execution_count": null,
   "metadata": {},
   "outputs": [],
   "source": [
    "len(score4)"
   ]
  },
  {
   "cell_type": "code",
   "execution_count": null,
   "metadata": {},
   "outputs": [],
   "source": [
    "len(score3)"
   ]
  },
  {
   "cell_type": "code",
   "execution_count": null,
   "metadata": {},
   "outputs": [],
   "source": [
    "len(score2)"
   ]
  },
  {
   "cell_type": "code",
   "execution_count": null,
   "metadata": {},
   "outputs": [],
   "source": [
    "len(score1)"
   ]
  },
  {
   "cell_type": "code",
   "execution_count": null,
   "metadata": {},
   "outputs": [],
   "source": [
    "len(score1)+len(score2)+len(score3)+len(score4)+len(score5)+len(score6)"
   ]
  },
  {
   "cell_type": "code",
   "execution_count": null,
   "metadata": {},
   "outputs": [],
   "source": [
    "O_code = {}\n",
    "for state in score1:\n",
    "    O_code[state] = score1[state]\n",
    "for state in score2:\n",
    "    O_code[state] = score2[state]\n",
    "for state in score3:\n",
    "    O_code[state] = score3[state]\n",
    "for state in score4:\n",
    "    O_code[state] = score4[state]\n",
    "for state in score5:\n",
    "    O_code[state] = score5[state]\n",
    "for state in score6:\n",
    "    O_code[state] = score6[state]\n",
    "print(len(O_code))"
   ]
  },
  {
   "cell_type": "code",
   "execution_count": null,
   "metadata": {},
   "outputs": [],
   "source": [
    "import pickle\n",
    "pickle.dump(O_code,open('O_code.pkl','wb'))"
   ]
  },
  {
   "cell_type": "code",
   "execution_count": null,
   "metadata": {},
   "outputs": [],
   "source": []
  }
 ]
}