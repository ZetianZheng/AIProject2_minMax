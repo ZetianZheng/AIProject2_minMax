{
 "nbformat": 4,
 "nbformat_minor": 2,
 "metadata": {
  "language_info": {
   "name": "python",
   "codemirror_mode": {
    "name": "ipython",
    "version": 3
   },
   "version": "3.7.7-final"
  },
  "orig_nbformat": 2,
  "file_extension": ".py",
  "mimetype": "text/x-python",
  "name": "python",
  "npconvert_exporter": "python",
  "pygments_lexer": "ipython3",
  "version": 3,
  "kernelspec": {
   "name": "python37764bit4d397fd25c924b158258ab67817c9e3e",
   "display_name": "Python 3.7.7 64-bit"
  }
 },
 "cells": [
  {
   "cell_type": "code",
   "execution_count": null,
   "metadata": {},
   "outputs": [],
   "source": [
    "import pickle\n",
    "with open ('O_code_8.pkl', 'rb') as f:\n",
    "    O_code = pickle.load(f)\n",
    "len(O_code)"
   ]
  },
  {
   "cell_type": "code",
   "execution_count": null,
   "metadata": {},
   "outputs": [],
   "source": [
    "values = list(set(O_code.values()))\n",
    "single_scores = {}\n",
    "for value in values:\n",
    "    for i in range(8):\n",
    "        state = str(i) + value\n",
    "        single_scores[state] = int(value[0]) + int(value[1]) * 3\n",
    "print(len(single_scores))\n",
    "single_scores"
   ]
  },
  {
   "cell_type": "code",
   "execution_count": null,
   "metadata": {},
   "outputs": [],
   "source": [
    "combine_scores = {}\n",
    "for s1 in single_scores:\n",
    "    for s2 in single_scores:\n",
    "        if int(s1[0]) != int(s2[0]):\n",
    "            # caculate the factor\n",
    "            i = int(s1[0])\n",
    "            j = int(s2[0])\n",
    "            # near\n",
    "            if j - i == 1 or j-i == 7:\n",
    "                factor = 1.5\n",
    "            # line\n",
    "            elif j-i == 4:\n",
    "                factor = 2\n",
    "            # vertical\n",
    "            elif j-i == 2 or j-i == 6 :\n",
    "                factor = 1.2\n",
    "            # 135°   \n",
    "            elif j-i ==3 or j-i == 5:\n",
    "                factor = 1\n",
    "            score = (single_scores[s1] + single_scores[s2]) * factor\n",
    "            state = s1+s2\n",
    "            combine_scores[state] = round(score, 3)\n",
    "print(len(combine_scores))\n",
    "pickle.dump(combine_scores,open('8.pkl','wb'))"
   ]
  }
 ]
}