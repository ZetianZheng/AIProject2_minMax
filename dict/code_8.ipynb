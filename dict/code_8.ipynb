{
 "nbformat": 4,
 "nbformat_minor": 2,
 "metadata": {
  "language_info": {
   "name": "python",
   "codemirror_mode": {
    "name": "ipython",
    "version": 3
   },
   "version": "3.7.7-final"
  },
  "orig_nbformat": 2,
  "file_extension": ".py",
  "mimetype": "text/x-python",
  "name": "python",
  "npconvert_exporter": "python",
  "pygments_lexer": "ipython3",
  "version": 3,
  "kernelspec": {
   "name": "python37764bit4d397fd25c924b158258ab67817c9e3e",
   "display_name": "Python 3.7.7 64-bit"
  }
 },
 "cells": [
  {
   "cell_type": "code",
   "execution_count": 1,
   "metadata": {},
   "outputs": [],
   "source": [
    "symbols = ['-','X','O']\n",
    "good_symbols = ['-','O']\n",
    "n = len(symbols)\n",
    "m = len(good_symbols)\n",
    "search_range = 7"
   ]
  },
  {
   "cell_type": "code",
   "execution_count": 2,
   "metadata": {},
   "outputs": [
    {
     "output_type": "execute_result",
     "data": {
      "text/plain": "729"
     },
     "metadata": {},
     "execution_count": 2
    }
   ],
   "source": [
    "a1 = ['X']\n",
    "score1 = {}\n",
    "for i in range(len(a1)):\n",
    "    s1 = a1[i]\n",
    "    for location2 in range(n):\n",
    "        s2 = symbols[location2]\n",
    "        for location3 in range(n):\n",
    "            s3 = symbols[location3]\n",
    "            for location4 in range(n):\n",
    "                s4 = symbols[location4]\n",
    "                for location5 in range(n):\n",
    "                    s5 = symbols[location5]\n",
    "                    for location6 in range(n):\n",
    "                        s6 = symbols[location6]\n",
    "                        for location7 in range(n):\n",
    "                            s7 = symbols[location7]\n",
    "                            s = s1 + s2 + s3 + s4 + s5 + s6 + s7\n",
    "                            score1[s] = '11'\n",
    "len(score1)\n",
    "#score1"
   ]
  },
  {
   "cell_type": "code",
   "execution_count": 3,
   "metadata": {},
   "outputs": [],
   "source": [
    "a2 = ['OX','-X']\n",
    "score2 = {}\n",
    "for i in range(len(a2)):\n",
    "    s1 = a2[i]\n",
    "    for location3 in range(n):\n",
    "        s3 = symbols[location3]\n",
    "        for location4 in range(n):\n",
    "            s4 = symbols[location4]\n",
    "            for location5 in range(n):\n",
    "                s5 = symbols[location5]\n",
    "                for location6 in range(n):\n",
    "                    s6 = symbols[location6]\n",
    "                    for location7 in range(n):\n",
    "                        s7 = symbols[location7]\n",
    "                        s = s1 + s3 + s4 + s5 + s6 + s7\n",
    "                        score2[s] = 0\n",
    "for state in score2:\n",
    "    c = 1\n",
    "    for i in range(1):\n",
    "        if state[i] == 'O':\n",
    "            c+=1\n",
    "    score2[state] = '2' + str(c)"
   ]
  },
  {
   "cell_type": "code",
   "execution_count": 4,
   "metadata": {},
   "outputs": [],
   "source": [
    "a3 = []\n",
    "for i in range(m):\n",
    "    s1 = good_symbols[i]\n",
    "    for j in range(m):\n",
    "        s2 = good_symbols[j]\n",
    "        a3.append(str(s1) + str(s2) + 'X')\n",
    "score3 = {}\n",
    "for i in range(len(a3)):\n",
    "    s1 = a3[i]\n",
    "    for location4 in range(n):\n",
    "        s4 = symbols[location4]\n",
    "        for location5 in range(n):\n",
    "            s5 = symbols[location5]\n",
    "            for location6 in range(n):\n",
    "                s6 = symbols[location6]\n",
    "                for location7 in range(n):\n",
    "                    s7 = symbols[location7]\n",
    "                    s = s1 + s4 + s5 + s6 + s7\n",
    "                    score3[s] = 0\n",
    "for state in score3:\n",
    "    c = 1\n",
    "    for i in range(2):\n",
    "        if state[i] == 'O':\n",
    "            c+=1\n",
    "    score3[state] = '3' + str(c)\n",
    "#score3"
   ]
  },
  {
   "cell_type": "code",
   "execution_count": 5,
   "metadata": {},
   "outputs": [],
   "source": [
    "a4 = []\n",
    "for location1 in range(m):\n",
    "    s1 = good_symbols[location1]\n",
    "    for location2 in range(m):\n",
    "        s2 = good_symbols[location2]\n",
    "        for location3 in range(m):\n",
    "            s3 = good_symbols[location3]\n",
    "            a4.append(str(s1) + str(s2) + str(s3) +'X')\n",
    "score4 = {}\n",
    "for i in range(len(a4)):\n",
    "    s1 = a4[i]\n",
    "    for location5 in range(n):\n",
    "        s5 = symbols[location5]\n",
    "        for location6 in range(n):\n",
    "            s6 = symbols[location6]\n",
    "            for location7 in range(n):\n",
    "                s7 = symbols[location7]\n",
    "                s = s1 + s5 + s6 + s7\n",
    "                score4[s] = 0\n",
    "for state in score4:\n",
    "    c = 1\n",
    "    for i in range(3):\n",
    "        if state[i] == 'O':\n",
    "            c+=1\n",
    "    score4[state] = '4' + str(c)\n",
    "#score4"
   ]
  },
  {
   "cell_type": "code",
   "execution_count": 6,
   "metadata": {},
   "outputs": [],
   "source": [
    "a5 = []\n",
    "for location1 in range(m):\n",
    "    s1 = good_symbols[location1]\n",
    "    for location2 in range(m):\n",
    "        s2 = good_symbols[location2]\n",
    "        for location3 in range(m):\n",
    "            s3 = good_symbols[location3]\n",
    "            for location4 in range(m):\n",
    "                s4 = good_symbols[location4]\n",
    "                a5.append(s1 + s2 + s3 + s4 + 'X')\n",
    "score5 = {}\n",
    "for i in range(len(a5)):\n",
    "    s1 = a5[i]\n",
    "    for location6 in range(n):\n",
    "        s6 = symbols[location6]\n",
    "        for location7 in range(n):\n",
    "            s7 = symbols[location7]\n",
    "            s = s1 + s6 + s7\n",
    "            score5[s] = 0\n",
    "for state in score5:\n",
    "    c = 1\n",
    "    for i in range(4):\n",
    "        if state[i] == 'O':\n",
    "            c+=1\n",
    "    score5[state] = '5' + str(c)\n",
    "#score5"
   ]
  },
  {
   "cell_type": "code",
   "execution_count": 7,
   "metadata": {},
   "outputs": [],
   "source": [
    "a6 = []\n",
    "for location1 in range(m):\n",
    "    s1 = good_symbols[location1]\n",
    "    for location2 in range(m):\n",
    "        s2 = good_symbols[location2]\n",
    "        for location3 in range(m):\n",
    "            s3 = good_symbols[location3]\n",
    "            for location4 in range(m):\n",
    "                s4 = good_symbols[location4]\n",
    "                for location5 in range(m):\n",
    "                    s5 = good_symbols[location5]\n",
    "                    a6.append(s1 + s2 + s3 + s4 + s5 +'X')\n",
    "score6 = {}\n",
    "for i in range(len(a6)):\n",
    "    s1 = a6[i]\n",
    "    for location7 in range(n):\n",
    "        s7 = symbols[location7]\n",
    "        s = s1 + s7\n",
    "        score6[s] = 0\n",
    "for state in score6:\n",
    "    c = 1\n",
    "    for i in range(5):\n",
    "        if state[i] == 'O':\n",
    "            c+=1\n",
    "    score6[state] = '6' + str(c)\n",
    "#score6"
   ]
  },
  {
   "cell_type": "code",
   "execution_count": 8,
   "metadata": {},
   "outputs": [],
   "source": [
    "a7 = []\n",
    "for location1 in range(m):\n",
    "    s1 = good_symbols[location1]\n",
    "    for location2 in range(m):\n",
    "        s2 = good_symbols[location2]\n",
    "        for location3 in range(m):\n",
    "            s3 = good_symbols[location3]\n",
    "            for location4 in range(m):\n",
    "                s4 = good_symbols[location4]\n",
    "                for location5 in range(m):\n",
    "                    s5 = good_symbols[location5]\n",
    "                    for location6 in range(m):\n",
    "                        s6 = good_symbols[location6]\n",
    "                        a7.append(s1+s2+s3+s4+s5+s6+'X')\n",
    "score7 = {}\n",
    "for i in range(len(a7)):\n",
    "    s1 = a7[i]\n",
    "    s = s1\n",
    "    score7[s] = 0\n",
    "for state in score7:\n",
    "    c = 1\n",
    "    for i in range(6):\n",
    "        if state[i] == 'O':\n",
    "            c+=1\n",
    "    score7[state] = '7' + str(c)\n",
    "#score7"
   ]
  },
  {
   "cell_type": "code",
   "execution_count": 9,
   "metadata": {},
   "outputs": [],
   "source": [
    "a8 = []\n",
    "for location1 in range(m):\n",
    "    s1 = good_symbols[location1]\n",
    "    for location2 in range(m):\n",
    "        s2 = good_symbols[location2]\n",
    "        for location3 in range(m):\n",
    "            s3 = good_symbols[location3]\n",
    "            for location4 in range(m):\n",
    "                s4 = good_symbols[location4]\n",
    "                for location5 in range(m):\n",
    "                    s5 = good_symbols[location5]\n",
    "                    for location6 in range(m):\n",
    "                        s6 = good_symbols[location6]\n",
    "                        for location7 in range(m):\n",
    "                            s7 = good_symbols[location7]\n",
    "                            a8.append(s1+s2+s3+s4+s5+s6+s7)\n",
    "score8 = {}\n",
    "for i in range(len(a8)):\n",
    "    state = a8[i]\n",
    "    c = 1\n",
    "    for i in range(7):\n",
    "        if state[i] == 'O':\n",
    "            c+=1\n",
    "    score8[state] = '8' + str(c)\n",
    "#score8"
   ]
  },
  {
   "cell_type": "code",
   "execution_count": 10,
   "metadata": {},
   "outputs": [
    {
     "output_type": "execute_result",
     "data": {
      "text/plain": "2187"
     },
     "metadata": {},
     "execution_count": 10
    }
   ],
   "source": [
    "len(score1)+len(score2)+len(score3)+len(score4)+len(score5)+len(score6)+len(score7)+len(score8)"
   ]
  },
  {
   "cell_type": "code",
   "execution_count": 16,
   "metadata": {},
   "outputs": [
    {
     "output_type": "execute_result",
     "data": {
      "text/plain": "2187"
     },
     "metadata": {},
     "execution_count": 16
    }
   ],
   "source": [
    "O_code_8 = {}\n",
    "for state in score1:\n",
    "    O_code_8[state] = score1[state]\n",
    "for state in score2:\n",
    "    O_code_8[state] = score2[state]\n",
    "for state in score3:\n",
    "    O_code_8[state] = score3[state]\n",
    "for state in score4:\n",
    "    O_code_8[state] = score4[state]\n",
    "for state in score5:\n",
    "    O_code_8[state] = score5[state]\n",
    "for state in score6:\n",
    "    O_code_8[state] = score6[state]\n",
    "for state in score7:\n",
    "    O_code_8[state] = score7[state]\n",
    "for state in score8:\n",
    "    O_code_8[state] = score8[state]\n",
    "len(O_code_8)"
   ]
  },
  {
   "cell_type": "code",
   "execution_count": 17,
   "metadata": {},
   "outputs": [],
   "source": [
    "import pickle\n",
    "pickle.dump(O_code_8,open('O_code_8.pkl', 'wb'))"
   ]
  },
  {
   "cell_type": "code",
   "execution_count": 18,
   "metadata": {},
   "outputs": [],
   "source": [
    "X_code_8 = {}\n",
    "for state in O_code_8:\n",
    "    s = ''\n",
    "    for i in range(len(state)):\n",
    "        if state[i] == 'X':\n",
    "            s += 'O'\n",
    "        elif state[i] == 'O':\n",
    "            s += 'X'\n",
    "        else:\n",
    "            s += '-' \n",
    "    X_code_8[s] = O_code_8[state]\n",
    "pickle.dump(X_code_8,open('X_code_8.pkl','wb'))"
   ]
  },
  {
   "cell_type": "code",
   "execution_count": 19,
   "metadata": {},
   "outputs": [
    {
     "output_type": "execute_result",
     "data": {
      "text/plain": "2187"
     },
     "metadata": {},
     "execution_count": 19
    }
   ],
   "source": [
    "len(X_code_8)"
   ]
  },
  {
   "cell_type": "code",
   "execution_count": 20,
   "metadata": {},
   "outputs": [
    {
     "output_type": "execute_result",
     "data": {
      "text/plain": "{'O------': '11',\n 'O-----O': '11',\n 'O-----X': '11',\n 'O----O-': '11',\n 'O----OO': '11',\n 'O----OX': '11',\n 'O----X-': '11',\n 'O----XO': '11',\n 'O----XX': '11',\n 'O---O--': '11',\n 'O---O-O': '11',\n 'O---O-X': '11',\n 'O---OO-': '11',\n 'O---OOO': '11',\n 'O---OOX': '11',\n 'O---OX-': '11',\n 'O---OXO': '11',\n 'O---OXX': '11',\n 'O---X--': '11',\n 'O---X-O': '11',\n 'O---X-X': '11',\n 'O---XO-': '11',\n 'O---XOO': '11',\n 'O---XOX': '11',\n 'O---XX-': '11',\n 'O---XXO': '11',\n 'O---XXX': '11',\n 'O--O---': '11',\n 'O--O--O': '11',\n 'O--O--X': '11',\n 'O--O-O-': '11',\n 'O--O-OO': '11',\n 'O--O-OX': '11',\n 'O--O-X-': '11',\n 'O--O-XO': '11',\n 'O--O-XX': '11',\n 'O--OO--': '11',\n 'O--OO-O': '11',\n 'O--OO-X': '11',\n 'O--OOO-': '11',\n 'O--OOOO': '11',\n 'O--OOOX': '11',\n 'O--OOX-': '11',\n 'O--OOXO': '11',\n 'O--OOXX': '11',\n 'O--OX--': '11',\n 'O--OX-O': '11',\n 'O--OX-X': '11',\n 'O--OXO-': '11',\n 'O--OXOO': '11',\n 'O--OXOX': '11',\n 'O--OXX-': '11',\n 'O--OXXO': '11',\n 'O--OXXX': '11',\n 'O--X---': '11',\n 'O--X--O': '11',\n 'O--X--X': '11',\n 'O--X-O-': '11',\n 'O--X-OO': '11',\n 'O--X-OX': '11',\n 'O--X-X-': '11',\n 'O--X-XO': '11',\n 'O--X-XX': '11',\n 'O--XO--': '11',\n 'O--XO-O': '11',\n 'O--XO-X': '11',\n 'O--XOO-': '11',\n 'O--XOOO': '11',\n 'O--XOOX': '11',\n 'O--XOX-': '11',\n 'O--XOXO': '11',\n 'O--XOXX': '11',\n 'O--XX--': '11',\n 'O--XX-O': '11',\n 'O--XX-X': '11',\n 'O--XXO-': '11',\n 'O--XXOO': '11',\n 'O--XXOX': '11',\n 'O--XXX-': '11',\n 'O--XXXO': '11',\n 'O--XXXX': '11',\n 'O-O----': '11',\n 'O-O---O': '11',\n 'O-O---X': '11',\n 'O-O--O-': '11',\n 'O-O--OO': '11',\n 'O-O--OX': '11',\n 'O-O--X-': '11',\n 'O-O--XO': '11',\n 'O-O--XX': '11',\n 'O-O-O--': '11',\n 'O-O-O-O': '11',\n 'O-O-O-X': '11',\n 'O-O-OO-': '11',\n 'O-O-OOO': '11',\n 'O-O-OOX': '11',\n 'O-O-OX-': '11',\n 'O-O-OXO': '11',\n 'O-O-OXX': '11',\n 'O-O-X--': '11',\n 'O-O-X-O': '11',\n 'O-O-X-X': '11',\n 'O-O-XO-': '11',\n 'O-O-XOO': '11',\n 'O-O-XOX': '11',\n 'O-O-XX-': '11',\n 'O-O-XXO': '11',\n 'O-O-XXX': '11',\n 'O-OO---': '11',\n 'O-OO--O': '11',\n 'O-OO--X': '11',\n 'O-OO-O-': '11',\n 'O-OO-OO': '11',\n 'O-OO-OX': '11',\n 'O-OO-X-': '11',\n 'O-OO-XO': '11',\n 'O-OO-XX': '11',\n 'O-OOO--': '11',\n 'O-OOO-O': '11',\n 'O-OOO-X': '11',\n 'O-OOOO-': '11',\n 'O-OOOOO': '11',\n 'O-OOOOX': '11',\n 'O-OOOX-': '11',\n 'O-OOOXO': '11',\n 'O-OOOXX': '11',\n 'O-OOX--': '11',\n 'O-OOX-O': '11',\n 'O-OOX-X': '11',\n 'O-OOXO-': '11',\n 'O-OOXOO': '11',\n 'O-OOXOX': '11',\n 'O-OOXX-': '11',\n 'O-OOXXO': '11',\n 'O-OOXXX': '11',\n 'O-OX---': '11',\n 'O-OX--O': '11',\n 'O-OX--X': '11',\n 'O-OX-O-': '11',\n 'O-OX-OO': '11',\n 'O-OX-OX': '11',\n 'O-OX-X-': '11',\n 'O-OX-XO': '11',\n 'O-OX-XX': '11',\n 'O-OXO--': '11',\n 'O-OXO-O': '11',\n 'O-OXO-X': '11',\n 'O-OXOO-': '11',\n 'O-OXOOO': '11',\n 'O-OXOOX': '11',\n 'O-OXOX-': '11',\n 'O-OXOXO': '11',\n 'O-OXOXX': '11',\n 'O-OXX--': '11',\n 'O-OXX-O': '11',\n 'O-OXX-X': '11',\n 'O-OXXO-': '11',\n 'O-OXXOO': '11',\n 'O-OXXOX': '11',\n 'O-OXXX-': '11',\n 'O-OXXXO': '11',\n 'O-OXXXX': '11',\n 'O-X----': '11',\n 'O-X---O': '11',\n 'O-X---X': '11',\n 'O-X--O-': '11',\n 'O-X--OO': '11',\n 'O-X--OX': '11',\n 'O-X--X-': '11',\n 'O-X--XO': '11',\n 'O-X--XX': '11',\n 'O-X-O--': '11',\n 'O-X-O-O': '11',\n 'O-X-O-X': '11',\n 'O-X-OO-': '11',\n 'O-X-OOO': '11',\n 'O-X-OOX': '11',\n 'O-X-OX-': '11',\n 'O-X-OXO': '11',\n 'O-X-OXX': '11',\n 'O-X-X--': '11',\n 'O-X-X-O': '11',\n 'O-X-X-X': '11',\n 'O-X-XO-': '11',\n 'O-X-XOO': '11',\n 'O-X-XOX': '11',\n 'O-X-XX-': '11',\n 'O-X-XXO': '11',\n 'O-X-XXX': '11',\n 'O-XO---': '11',\n 'O-XO--O': '11',\n 'O-XO--X': '11',\n 'O-XO-O-': '11',\n 'O-XO-OO': '11',\n 'O-XO-OX': '11',\n 'O-XO-X-': '11',\n 'O-XO-XO': '11',\n 'O-XO-XX': '11',\n 'O-XOO--': '11',\n 'O-XOO-O': '11',\n 'O-XOO-X': '11',\n 'O-XOOO-': '11',\n 'O-XOOOO': '11',\n 'O-XOOOX': '11',\n 'O-XOOX-': '11',\n 'O-XOOXO': '11',\n 'O-XOOXX': '11',\n 'O-XOX--': '11',\n 'O-XOX-O': '11',\n 'O-XOX-X': '11',\n 'O-XOXO-': '11',\n 'O-XOXOO': '11',\n 'O-XOXOX': '11',\n 'O-XOXX-': '11',\n 'O-XOXXO': '11',\n 'O-XOXXX': '11',\n 'O-XX---': '11',\n 'O-XX--O': '11',\n 'O-XX--X': '11',\n 'O-XX-O-': '11',\n 'O-XX-OO': '11',\n 'O-XX-OX': '11',\n 'O-XX-X-': '11',\n 'O-XX-XO': '11',\n 'O-XX-XX': '11',\n 'O-XXO--': '11',\n 'O-XXO-O': '11',\n 'O-XXO-X': '11',\n 'O-XXOO-': '11',\n 'O-XXOOO': '11',\n 'O-XXOOX': '11',\n 'O-XXOX-': '11',\n 'O-XXOXO': '11',\n 'O-XXOXX': '11',\n 'O-XXX--': '11',\n 'O-XXX-O': '11',\n 'O-XXX-X': '11',\n 'O-XXXO-': '11',\n 'O-XXXOO': '11',\n 'O-XXXOX': '11',\n 'O-XXXX-': '11',\n 'O-XXXXO': '11',\n 'O-XXXXX': '11',\n 'OO-----': '11',\n 'OO----O': '11',\n 'OO----X': '11',\n 'OO---O-': '11',\n 'OO---OO': '11',\n 'OO---OX': '11',\n 'OO---X-': '11',\n 'OO---XO': '11',\n 'OO---XX': '11',\n 'OO--O--': '11',\n 'OO--O-O': '11',\n 'OO--O-X': '11',\n 'OO--OO-': '11',\n 'OO--OOO': '11',\n 'OO--OOX': '11',\n 'OO--OX-': '11',\n 'OO--OXO': '11',\n 'OO--OXX': '11',\n 'OO--X--': '11',\n 'OO--X-O': '11',\n 'OO--X-X': '11',\n 'OO--XO-': '11',\n 'OO--XOO': '11',\n 'OO--XOX': '11',\n 'OO--XX-': '11',\n 'OO--XXO': '11',\n 'OO--XXX': '11',\n 'OO-O---': '11',\n 'OO-O--O': '11',\n 'OO-O--X': '11',\n 'OO-O-O-': '11',\n 'OO-O-OO': '11',\n 'OO-O-OX': '11',\n 'OO-O-X-': '11',\n 'OO-O-XO': '11',\n 'OO-O-XX': '11',\n 'OO-OO--': '11',\n 'OO-OO-O': '11',\n 'OO-OO-X': '11',\n 'OO-OOO-': '11',\n 'OO-OOOO': '11',\n 'OO-OOOX': '11',\n 'OO-OOX-': '11',\n 'OO-OOXO': '11',\n 'OO-OOXX': '11',\n 'OO-OX--': '11',\n 'OO-OX-O': '11',\n 'OO-OX-X': '11',\n 'OO-OXO-': '11',\n 'OO-OXOO': '11',\n 'OO-OXOX': '11',\n 'OO-OXX-': '11',\n 'OO-OXXO': '11',\n 'OO-OXXX': '11',\n 'OO-X---': '11',\n 'OO-X--O': '11',\n 'OO-X--X': '11',\n 'OO-X-O-': '11',\n 'OO-X-OO': '11',\n 'OO-X-OX': '11',\n 'OO-X-X-': '11',\n 'OO-X-XO': '11',\n 'OO-X-XX': '11',\n 'OO-XO--': '11',\n 'OO-XO-O': '11',\n 'OO-XO-X': '11',\n 'OO-XOO-': '11',\n 'OO-XOOO': '11',\n 'OO-XOOX': '11',\n 'OO-XOX-': '11',\n 'OO-XOXO': '11',\n 'OO-XOXX': '11',\n 'OO-XX--': '11',\n 'OO-XX-O': '11',\n 'OO-XX-X': '11',\n 'OO-XXO-': '11',\n 'OO-XXOO': '11',\n 'OO-XXOX': '11',\n 'OO-XXX-': '11',\n 'OO-XXXO': '11',\n 'OO-XXXX': '11',\n 'OOO----': '11',\n 'OOO---O': '11',\n 'OOO---X': '11',\n 'OOO--O-': '11',\n 'OOO--OO': '11',\n 'OOO--OX': '11',\n 'OOO--X-': '11',\n 'OOO--XO': '11',\n 'OOO--XX': '11',\n 'OOO-O--': '11',\n 'OOO-O-O': '11',\n 'OOO-O-X': '11',\n 'OOO-OO-': '11',\n 'OOO-OOO': '11',\n 'OOO-OOX': '11',\n 'OOO-OX-': '11',\n 'OOO-OXO': '11',\n 'OOO-OXX': '11',\n 'OOO-X--': '11',\n 'OOO-X-O': '11',\n 'OOO-X-X': '11',\n 'OOO-XO-': '11',\n 'OOO-XOO': '11',\n 'OOO-XOX': '11',\n 'OOO-XX-': '11',\n 'OOO-XXO': '11',\n 'OOO-XXX': '11',\n 'OOOO---': '11',\n 'OOOO--O': '11',\n 'OOOO--X': '11',\n 'OOOO-O-': '11',\n 'OOOO-OO': '11',\n 'OOOO-OX': '11',\n 'OOOO-X-': '11',\n 'OOOO-XO': '11',\n 'OOOO-XX': '11',\n 'OOOOO--': '11',\n 'OOOOO-O': '11',\n 'OOOOO-X': '11',\n 'OOOOOO-': '11',\n 'OOOOOOO': '11',\n 'OOOOOOX': '11',\n 'OOOOOX-': '11',\n 'OOOOOXO': '11',\n 'OOOOOXX': '11',\n 'OOOOX--': '11',\n 'OOOOX-O': '11',\n 'OOOOX-X': '11',\n 'OOOOXO-': '11',\n 'OOOOXOO': '11',\n 'OOOOXOX': '11',\n 'OOOOXX-': '11',\n 'OOOOXXO': '11',\n 'OOOOXXX': '11',\n 'OOOX---': '11',\n 'OOOX--O': '11',\n 'OOOX--X': '11',\n 'OOOX-O-': '11',\n 'OOOX-OO': '11',\n 'OOOX-OX': '11',\n 'OOOX-X-': '11',\n 'OOOX-XO': '11',\n 'OOOX-XX': '11',\n 'OOOXO--': '11',\n 'OOOXO-O': '11',\n 'OOOXO-X': '11',\n 'OOOXOO-': '11',\n 'OOOXOOO': '11',\n 'OOOXOOX': '11',\n 'OOOXOX-': '11',\n 'OOOXOXO': '11',\n 'OOOXOXX': '11',\n 'OOOXX--': '11',\n 'OOOXX-O': '11',\n 'OOOXX-X': '11',\n 'OOOXXO-': '11',\n 'OOOXXOO': '11',\n 'OOOXXOX': '11',\n 'OOOXXX-': '11',\n 'OOOXXXO': '11',\n 'OOOXXXX': '11',\n 'OOX----': '11',\n 'OOX---O': '11',\n 'OOX---X': '11',\n 'OOX--O-': '11',\n 'OOX--OO': '11',\n 'OOX--OX': '11',\n 'OOX--X-': '11',\n 'OOX--XO': '11',\n 'OOX--XX': '11',\n 'OOX-O--': '11',\n 'OOX-O-O': '11',\n 'OOX-O-X': '11',\n 'OOX-OO-': '11',\n 'OOX-OOO': '11',\n 'OOX-OOX': '11',\n 'OOX-OX-': '11',\n 'OOX-OXO': '11',\n 'OOX-OXX': '11',\n 'OOX-X--': '11',\n 'OOX-X-O': '11',\n 'OOX-X-X': '11',\n 'OOX-XO-': '11',\n 'OOX-XOO': '11',\n 'OOX-XOX': '11',\n 'OOX-XX-': '11',\n 'OOX-XXO': '11',\n 'OOX-XXX': '11',\n 'OOXO---': '11',\n 'OOXO--O': '11',\n 'OOXO--X': '11',\n 'OOXO-O-': '11',\n 'OOXO-OO': '11',\n 'OOXO-OX': '11',\n 'OOXO-X-': '11',\n 'OOXO-XO': '11',\n 'OOXO-XX': '11',\n 'OOXOO--': '11',\n 'OOXOO-O': '11',\n 'OOXOO-X': '11',\n 'OOXOOO-': '11',\n 'OOXOOOO': '11',\n 'OOXOOOX': '11',\n 'OOXOOX-': '11',\n 'OOXOOXO': '11',\n 'OOXOOXX': '11',\n 'OOXOX--': '11',\n 'OOXOX-O': '11',\n 'OOXOX-X': '11',\n 'OOXOXO-': '11',\n 'OOXOXOO': '11',\n 'OOXOXOX': '11',\n 'OOXOXX-': '11',\n 'OOXOXXO': '11',\n 'OOXOXXX': '11',\n 'OOXX---': '11',\n 'OOXX--O': '11',\n 'OOXX--X': '11',\n 'OOXX-O-': '11',\n 'OOXX-OO': '11',\n 'OOXX-OX': '11',\n 'OOXX-X-': '11',\n 'OOXX-XO': '11',\n 'OOXX-XX': '11',\n 'OOXXO--': '11',\n 'OOXXO-O': '11',\n 'OOXXO-X': '11',\n 'OOXXOO-': '11',\n 'OOXXOOO': '11',\n 'OOXXOOX': '11',\n 'OOXXOX-': '11',\n 'OOXXOXO': '11',\n 'OOXXOXX': '11',\n 'OOXXX--': '11',\n 'OOXXX-O': '11',\n 'OOXXX-X': '11',\n 'OOXXXO-': '11',\n 'OOXXXOO': '11',\n 'OOXXXOX': '11',\n 'OOXXXX-': '11',\n 'OOXXXXO': '11',\n 'OOXXXXX': '11',\n 'OX-----': '11',\n 'OX----O': '11',\n 'OX----X': '11',\n 'OX---O-': '11',\n 'OX---OO': '11',\n 'OX---OX': '11',\n 'OX---X-': '11',\n 'OX---XO': '11',\n 'OX---XX': '11',\n 'OX--O--': '11',\n 'OX--O-O': '11',\n 'OX--O-X': '11',\n 'OX--OO-': '11',\n 'OX--OOO': '11',\n 'OX--OOX': '11',\n 'OX--OX-': '11',\n 'OX--OXO': '11',\n 'OX--OXX': '11',\n 'OX--X--': '11',\n 'OX--X-O': '11',\n 'OX--X-X': '11',\n 'OX--XO-': '11',\n 'OX--XOO': '11',\n 'OX--XOX': '11',\n 'OX--XX-': '11',\n 'OX--XXO': '11',\n 'OX--XXX': '11',\n 'OX-O---': '11',\n 'OX-O--O': '11',\n 'OX-O--X': '11',\n 'OX-O-O-': '11',\n 'OX-O-OO': '11',\n 'OX-O-OX': '11',\n 'OX-O-X-': '11',\n 'OX-O-XO': '11',\n 'OX-O-XX': '11',\n 'OX-OO--': '11',\n 'OX-OO-O': '11',\n 'OX-OO-X': '11',\n 'OX-OOO-': '11',\n 'OX-OOOO': '11',\n 'OX-OOOX': '11',\n 'OX-OOX-': '11',\n 'OX-OOXO': '11',\n 'OX-OOXX': '11',\n 'OX-OX--': '11',\n 'OX-OX-O': '11',\n 'OX-OX-X': '11',\n 'OX-OXO-': '11',\n 'OX-OXOO': '11',\n 'OX-OXOX': '11',\n 'OX-OXX-': '11',\n 'OX-OXXO': '11',\n 'OX-OXXX': '11',\n 'OX-X---': '11',\n 'OX-X--O': '11',\n 'OX-X--X': '11',\n 'OX-X-O-': '11',\n 'OX-X-OO': '11',\n 'OX-X-OX': '11',\n 'OX-X-X-': '11',\n 'OX-X-XO': '11',\n 'OX-X-XX': '11',\n 'OX-XO--': '11',\n 'OX-XO-O': '11',\n 'OX-XO-X': '11',\n 'OX-XOO-': '11',\n 'OX-XOOO': '11',\n 'OX-XOOX': '11',\n 'OX-XOX-': '11',\n 'OX-XOXO': '11',\n 'OX-XOXX': '11',\n 'OX-XX--': '11',\n 'OX-XX-O': '11',\n 'OX-XX-X': '11',\n 'OX-XXO-': '11',\n 'OX-XXOO': '11',\n 'OX-XXOX': '11',\n 'OX-XXX-': '11',\n 'OX-XXXO': '11',\n 'OX-XXXX': '11',\n 'OXO----': '11',\n 'OXO---O': '11',\n 'OXO---X': '11',\n 'OXO--O-': '11',\n 'OXO--OO': '11',\n 'OXO--OX': '11',\n 'OXO--X-': '11',\n 'OXO--XO': '11',\n 'OXO--XX': '11',\n 'OXO-O--': '11',\n 'OXO-O-O': '11',\n 'OXO-O-X': '11',\n 'OXO-OO-': '11',\n 'OXO-OOO': '11',\n 'OXO-OOX': '11',\n 'OXO-OX-': '11',\n 'OXO-OXO': '11',\n 'OXO-OXX': '11',\n 'OXO-X--': '11',\n 'OXO-X-O': '11',\n 'OXO-X-X': '11',\n 'OXO-XO-': '11',\n 'OXO-XOO': '11',\n 'OXO-XOX': '11',\n 'OXO-XX-': '11',\n 'OXO-XXO': '11',\n 'OXO-XXX': '11',\n 'OXOO---': '11',\n 'OXOO--O': '11',\n 'OXOO--X': '11',\n 'OXOO-O-': '11',\n 'OXOO-OO': '11',\n 'OXOO-OX': '11',\n 'OXOO-X-': '11',\n 'OXOO-XO': '11',\n 'OXOO-XX': '11',\n 'OXOOO--': '11',\n 'OXOOO-O': '11',\n 'OXOOO-X': '11',\n 'OXOOOO-': '11',\n 'OXOOOOO': '11',\n 'OXOOOOX': '11',\n 'OXOOOX-': '11',\n 'OXOOOXO': '11',\n 'OXOOOXX': '11',\n 'OXOOX--': '11',\n 'OXOOX-O': '11',\n 'OXOOX-X': '11',\n 'OXOOXO-': '11',\n 'OXOOXOO': '11',\n 'OXOOXOX': '11',\n 'OXOOXX-': '11',\n 'OXOOXXO': '11',\n 'OXOOXXX': '11',\n 'OXOX---': '11',\n 'OXOX--O': '11',\n 'OXOX--X': '11',\n 'OXOX-O-': '11',\n 'OXOX-OO': '11',\n 'OXOX-OX': '11',\n 'OXOX-X-': '11',\n 'OXOX-XO': '11',\n 'OXOX-XX': '11',\n 'OXOXO--': '11',\n 'OXOXO-O': '11',\n 'OXOXO-X': '11',\n 'OXOXOO-': '11',\n 'OXOXOOO': '11',\n 'OXOXOOX': '11',\n 'OXOXOX-': '11',\n 'OXOXOXO': '11',\n 'OXOXOXX': '11',\n 'OXOXX--': '11',\n 'OXOXX-O': '11',\n 'OXOXX-X': '11',\n 'OXOXXO-': '11',\n 'OXOXXOO': '11',\n 'OXOXXOX': '11',\n 'OXOXXX-': '11',\n 'OXOXXXO': '11',\n 'OXOXXXX': '11',\n 'OXX----': '11',\n 'OXX---O': '11',\n 'OXX---X': '11',\n 'OXX--O-': '11',\n 'OXX--OO': '11',\n 'OXX--OX': '11',\n 'OXX--X-': '11',\n 'OXX--XO': '11',\n 'OXX--XX': '11',\n 'OXX-O--': '11',\n 'OXX-O-O': '11',\n 'OXX-O-X': '11',\n 'OXX-OO-': '11',\n 'OXX-OOO': '11',\n 'OXX-OOX': '11',\n 'OXX-OX-': '11',\n 'OXX-OXO': '11',\n 'OXX-OXX': '11',\n 'OXX-X--': '11',\n 'OXX-X-O': '11',\n 'OXX-X-X': '11',\n 'OXX-XO-': '11',\n 'OXX-XOO': '11',\n 'OXX-XOX': '11',\n 'OXX-XX-': '11',\n 'OXX-XXO': '11',\n 'OXX-XXX': '11',\n 'OXXO---': '11',\n 'OXXO--O': '11',\n 'OXXO--X': '11',\n 'OXXO-O-': '11',\n 'OXXO-OO': '11',\n 'OXXO-OX': '11',\n 'OXXO-X-': '11',\n 'OXXO-XO': '11',\n 'OXXO-XX': '11',\n 'OXXOO--': '11',\n 'OXXOO-O': '11',\n 'OXXOO-X': '11',\n 'OXXOOO-': '11',\n 'OXXOOOO': '11',\n 'OXXOOOX': '11',\n 'OXXOOX-': '11',\n 'OXXOOXO': '11',\n 'OXXOOXX': '11',\n 'OXXOX--': '11',\n 'OXXOX-O': '11',\n 'OXXOX-X': '11',\n 'OXXOXO-': '11',\n 'OXXOXOO': '11',\n 'OXXOXOX': '11',\n 'OXXOXX-': '11',\n 'OXXOXXO': '11',\n 'OXXOXXX': '11',\n 'OXXX---': '11',\n 'OXXX--O': '11',\n 'OXXX--X': '11',\n 'OXXX-O-': '11',\n 'OXXX-OO': '11',\n 'OXXX-OX': '11',\n 'OXXX-X-': '11',\n 'OXXX-XO': '11',\n 'OXXX-XX': '11',\n 'OXXXO--': '11',\n 'OXXXO-O': '11',\n 'OXXXO-X': '11',\n 'OXXXOO-': '11',\n 'OXXXOOO': '11',\n 'OXXXOOX': '11',\n 'OXXXOX-': '11',\n 'OXXXOXO': '11',\n 'OXXXOXX': '11',\n 'OXXXX--': '11',\n 'OXXXX-O': '11',\n 'OXXXX-X': '11',\n 'OXXXXO-': '11',\n 'OXXXXOO': '11',\n 'OXXXXOX': '11',\n 'OXXXXX-': '11',\n 'OXXXXXO': '11',\n 'OXXXXXX': '11',\n 'XO-----': '22',\n 'XO----O': '22',\n 'XO----X': '22',\n 'XO---O-': '22',\n 'XO---OO': '22',\n 'XO---OX': '22',\n 'XO---X-': '22',\n 'XO---XO': '22',\n 'XO---XX': '22',\n 'XO--O--': '22',\n 'XO--O-O': '22',\n 'XO--O-X': '22',\n 'XO--OO-': '22',\n 'XO--OOO': '22',\n 'XO--OOX': '22',\n 'XO--OX-': '22',\n 'XO--OXO': '22',\n 'XO--OXX': '22',\n 'XO--X--': '22',\n 'XO--X-O': '22',\n 'XO--X-X': '22',\n 'XO--XO-': '22',\n 'XO--XOO': '22',\n 'XO--XOX': '22',\n 'XO--XX-': '22',\n 'XO--XXO': '22',\n 'XO--XXX': '22',\n 'XO-O---': '22',\n 'XO-O--O': '22',\n 'XO-O--X': '22',\n 'XO-O-O-': '22',\n 'XO-O-OO': '22',\n 'XO-O-OX': '22',\n 'XO-O-X-': '22',\n 'XO-O-XO': '22',\n 'XO-O-XX': '22',\n 'XO-OO--': '22',\n 'XO-OO-O': '22',\n 'XO-OO-X': '22',\n 'XO-OOO-': '22',\n 'XO-OOOO': '22',\n 'XO-OOOX': '22',\n 'XO-OOX-': '22',\n 'XO-OOXO': '22',\n 'XO-OOXX': '22',\n 'XO-OX--': '22',\n 'XO-OX-O': '22',\n 'XO-OX-X': '22',\n 'XO-OXO-': '22',\n 'XO-OXOO': '22',\n 'XO-OXOX': '22',\n 'XO-OXX-': '22',\n 'XO-OXXO': '22',\n 'XO-OXXX': '22',\n 'XO-X---': '22',\n 'XO-X--O': '22',\n 'XO-X--X': '22',\n 'XO-X-O-': '22',\n 'XO-X-OO': '22',\n 'XO-X-OX': '22',\n 'XO-X-X-': '22',\n 'XO-X-XO': '22',\n 'XO-X-XX': '22',\n 'XO-XO--': '22',\n 'XO-XO-O': '22',\n 'XO-XO-X': '22',\n 'XO-XOO-': '22',\n 'XO-XOOO': '22',\n 'XO-XOOX': '22',\n 'XO-XOX-': '22',\n 'XO-XOXO': '22',\n 'XO-XOXX': '22',\n 'XO-XX--': '22',\n 'XO-XX-O': '22',\n 'XO-XX-X': '22',\n 'XO-XXO-': '22',\n 'XO-XXOO': '22',\n 'XO-XXOX': '22',\n 'XO-XXX-': '22',\n 'XO-XXXO': '22',\n 'XO-XXXX': '22',\n 'XOO----': '22',\n 'XOO---O': '22',\n 'XOO---X': '22',\n 'XOO--O-': '22',\n 'XOO--OO': '22',\n 'XOO--OX': '22',\n 'XOO--X-': '22',\n 'XOO--XO': '22',\n 'XOO--XX': '22',\n 'XOO-O--': '22',\n 'XOO-O-O': '22',\n 'XOO-O-X': '22',\n 'XOO-OO-': '22',\n 'XOO-OOO': '22',\n 'XOO-OOX': '22',\n 'XOO-OX-': '22',\n 'XOO-OXO': '22',\n 'XOO-OXX': '22',\n 'XOO-X--': '22',\n 'XOO-X-O': '22',\n 'XOO-X-X': '22',\n 'XOO-XO-': '22',\n 'XOO-XOO': '22',\n 'XOO-XOX': '22',\n 'XOO-XX-': '22',\n 'XOO-XXO': '22',\n 'XOO-XXX': '22',\n 'XOOO---': '22',\n 'XOOO--O': '22',\n 'XOOO--X': '22',\n 'XOOO-O-': '22',\n 'XOOO-OO': '22',\n 'XOOO-OX': '22',\n 'XOOO-X-': '22',\n 'XOOO-XO': '22',\n 'XOOO-XX': '22',\n 'XOOOO--': '22',\n 'XOOOO-O': '22',\n 'XOOOO-X': '22',\n 'XOOOOO-': '22',\n 'XOOOOOO': '22',\n 'XOOOOOX': '22',\n 'XOOOOX-': '22',\n 'XOOOOXO': '22',\n 'XOOOOXX': '22',\n 'XOOOX--': '22',\n 'XOOOX-O': '22',\n 'XOOOX-X': '22',\n 'XOOOXO-': '22',\n 'XOOOXOO': '22',\n 'XOOOXOX': '22',\n 'XOOOXX-': '22',\n 'XOOOXXO': '22',\n 'XOOOXXX': '22',\n 'XOOX---': '22',\n 'XOOX--O': '22',\n 'XOOX--X': '22',\n 'XOOX-O-': '22',\n 'XOOX-OO': '22',\n 'XOOX-OX': '22',\n 'XOOX-X-': '22',\n 'XOOX-XO': '22',\n 'XOOX-XX': '22',\n 'XOOXO--': '22',\n 'XOOXO-O': '22',\n 'XOOXO-X': '22',\n 'XOOXOO-': '22',\n 'XOOXOOO': '22',\n 'XOOXOOX': '22',\n 'XOOXOX-': '22',\n 'XOOXOXO': '22',\n 'XOOXOXX': '22',\n 'XOOXX--': '22',\n 'XOOXX-O': '22',\n 'XOOXX-X': '22',\n 'XOOXXO-': '22',\n 'XOOXXOO': '22',\n 'XOOXXOX': '22',\n 'XOOXXX-': '22',\n 'XOOXXXO': '22',\n 'XOOXXXX': '22',\n 'XOX----': '22',\n 'XOX---O': '22',\n 'XOX---X': '22',\n 'XOX--O-': '22',\n 'XOX--OO': '22',\n 'XOX--OX': '22',\n 'XOX--X-': '22',\n 'XOX--XO': '22',\n 'XOX--XX': '22',\n 'XOX-O--': '22',\n 'XOX-O-O': '22',\n 'XOX-O-X': '22',\n 'XOX-OO-': '22',\n 'XOX-OOO': '22',\n 'XOX-OOX': '22',\n 'XOX-OX-': '22',\n 'XOX-OXO': '22',\n 'XOX-OXX': '22',\n 'XOX-X--': '22',\n 'XOX-X-O': '22',\n 'XOX-X-X': '22',\n 'XOX-XO-': '22',\n 'XOX-XOO': '22',\n 'XOX-XOX': '22',\n 'XOX-XX-': '22',\n 'XOX-XXO': '22',\n 'XOX-XXX': '22',\n 'XOXO---': '22',\n 'XOXO--O': '22',\n 'XOXO--X': '22',\n 'XOXO-O-': '22',\n 'XOXO-OO': '22',\n 'XOXO-OX': '22',\n 'XOXO-X-': '22',\n 'XOXO-XO': '22',\n 'XOXO-XX': '22',\n 'XOXOO--': '22',\n 'XOXOO-O': '22',\n 'XOXOO-X': '22',\n 'XOXOOO-': '22',\n 'XOXOOOO': '22',\n 'XOXOOOX': '22',\n 'XOXOOX-': '22',\n 'XOXOOXO': '22',\n 'XOXOOXX': '22',\n 'XOXOX--': '22',\n 'XOXOX-O': '22',\n 'XOXOX-X': '22',\n 'XOXOXO-': '22',\n 'XOXOXOO': '22',\n 'XOXOXOX': '22',\n 'XOXOXX-': '22',\n 'XOXOXXO': '22',\n 'XOXOXXX': '22',\n 'XOXX---': '22',\n 'XOXX--O': '22',\n 'XOXX--X': '22',\n 'XOXX-O-': '22',\n 'XOXX-OO': '22',\n 'XOXX-OX': '22',\n 'XOXX-X-': '22',\n 'XOXX-XO': '22',\n 'XOXX-XX': '22',\n 'XOXXO--': '22',\n 'XOXXO-O': '22',\n 'XOXXO-X': '22',\n 'XOXXOO-': '22',\n 'XOXXOOO': '22',\n 'XOXXOOX': '22',\n 'XOXXOX-': '22',\n 'XOXXOXO': '22',\n 'XOXXOXX': '22',\n 'XOXXX--': '22',\n 'XOXXX-O': '22',\n 'XOXXX-X': '22',\n 'XOXXXO-': '22',\n 'XOXXXOO': '22',\n 'XOXXXOX': '22',\n 'XOXXXX-': '22',\n 'XOXXXXO': '22',\n 'XOXXXXX': '22',\n '-O-----': '21',\n '-O----O': '21',\n '-O----X': '21',\n '-O---O-': '21',\n '-O---OO': '21',\n '-O---OX': '21',\n '-O---X-': '21',\n '-O---XO': '21',\n '-O---XX': '21',\n '-O--O--': '21',\n '-O--O-O': '21',\n '-O--O-X': '21',\n '-O--OO-': '21',\n '-O--OOO': '21',\n '-O--OOX': '21',\n '-O--OX-': '21',\n '-O--OXO': '21',\n '-O--OXX': '21',\n '-O--X--': '21',\n '-O--X-O': '21',\n '-O--X-X': '21',\n '-O--XO-': '21',\n '-O--XOO': '21',\n '-O--XOX': '21',\n '-O--XX-': '21',\n '-O--XXO': '21',\n '-O--XXX': '21',\n '-O-O---': '21',\n ...}"
     },
     "metadata": {},
     "execution_count": 20
    }
   ],
   "source": [
    "X_code_8"
   ]
  },
  {
   "cell_type": "code",
   "execution_count": null,
   "metadata": {},
   "outputs": [],
   "source": []
  }
 ]
}